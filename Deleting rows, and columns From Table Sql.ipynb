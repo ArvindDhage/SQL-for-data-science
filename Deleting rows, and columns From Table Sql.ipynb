{
 "cells": [
  {
   "cell_type": "code",
   "execution_count": null,
   "id": "44d715c7-e767-4776-bd21-3fa95008f372",
   "metadata": {},
   "outputs": [],
   "source": [
    "CREATE TABLE employee2(\n",
    "\temployee_id INT PRIMARY KEY,\n",
    "\tname VARCHAR(100) NOT NULL,            \n",
    "\tposition VARCHAR(50),                        # creat a new table\n",
    "\tdepartment VARCHAR(50),\n",
    "\thire_date DATE,\n",
    "\tsalary NUMERIC(10,2)\n",
    ");\n",
    "\n",
    "SELECT * FROM employee2;    #showing the out put of the table creating data\n",
    "\n",
    "INSERT INTO employee2 (employee_id, name, position, department, hire_date, salary)\n",
    "\t\tVALUES(101, 'Amit Sharma','Data Analyst', 'Data Science', '2022-05-15',65000.00),\n",
    "\t\t\t(102, 'Priya Desai','Software Engineer', 'IT', '2021-09-20',75000.00),\n",
    "\t\t\t(103, 'Rajesh Kumar', 'HR Manager', 'Human Resources', '2019-03-10', 82000.00),\n",
    "\t\t\t(104, 'Sneha Patel', 'Marketing Specialist', 'Marketing', '2020-11-25', 58000.00),\n",
    "\t\t\t(105, 'Vikram Singh', 'Sales Executive', 'Sales', '2023-02-12', 62000.00);\n",
    "\n",
    "             # Add the data in table employee two\n",
    "\n",
    "DELETE FROM employee2     #uesd to delet table specific row.\n",
    "WHERE employee_id=105;\n",
    "\n",
    "ALTER TABLE employee2    ##uesd to delet table specific column.\n",
    "DROP COLUMN salary;\n",
    "\n",
    "DROP TABLE IF EXISTS employee2; #used to delet the table\n",
    "\n",
    "DROP DATABASE IF EXISTS company2;  #used to delet database "
   ]
  }
 ],
 "metadata": {
  "kernelspec": {
   "display_name": "Python 3 (ipykernel)",
   "language": "python",
   "name": "python3"
  },
  "language_info": {
   "codemirror_mode": {
    "name": "ipython",
    "version": 3
   },
   "file_extension": ".py",
   "mimetype": "text/x-python",
   "name": "python",
   "nbconvert_exporter": "python",
   "pygments_lexer": "ipython3",
   "version": "3.8.19"
  }
 },
 "nbformat": 4,
 "nbformat_minor": 5
}
