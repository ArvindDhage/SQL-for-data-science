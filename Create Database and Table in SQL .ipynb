{
 "cells": [
  {
   "cell_type": "code",
   "execution_count": null,
   "id": "8180014d-d1ac-4e47-ad0d-2ad68bb4af11",
   "metadata": {},
   "outputs": [],
   "source": [
    "step1-open PostgreSql \n",
    "step2-open servers \n",
    "step3-open Dtabase click database \n",
    "step4-right click on postgres \n",
    "step5- click on Query tool \n"
   ]
  },
  {
   "cell_type": "code",
   "execution_count": null,
   "id": "9631e4dc-099c-4714-9488-08e57683076e",
   "metadata": {},
   "outputs": [],
   "source": [
    "#first creat a data base \n",
    "CREATE DATABASE company;\n",
    "output :-\n",
    "CREATE DATABASE\n",
    "\n",
    "Query returned successfully in 803 msec."
   ]
  },
  {
   "cell_type": "code",
   "execution_count": null,
   "id": "8177f5d1-1e5b-431e-bd4d-855fb6d93ce6",
   "metadata": {},
   "outputs": [],
   "source": [
    "step6-then click on data base section and refresh the data base.\n",
    "step7-click on company data base section to connect \n",
    "step8- Right click on company database section and select query tool .\n"
   ]
  },
  {
   "cell_type": "code",
   "execution_count": null,
   "id": "e502d512-b872-4c19-8ddd-fac12b9dc1e8",
   "metadata": {},
   "outputs": [],
   "source": [
    "You want to delete your data base \n",
    "step1- right click on databse name company and select Delect .\n",
    "step2- used a command for deecting data base \n",
    "       DELETE DATABASE company;"
   ]
  },
  {
   "cell_type": "code",
   "execution_count": null,
   "id": "92510e81-4f92-4d94-9d28-c91981aa7f68",
   "metadata": {},
   "outputs": [],
   "source": [
    "And you want to creat a data base extra \n",
    "step1: click on database section and rightclick on company data base \n",
    "step2: select creat section and select database \n",
    "step3- write down database name company2 and save it .\n",
    "your second data base created ."
   ]
  },
  {
   "cell_type": "code",
   "execution_count": null,
   "id": "d6d8b4ab-e3d7-44b1-98b7-97c30b05c2f4",
   "metadata": {},
   "outputs": [],
   "source": [
    "CREAT A TABLE IN SQL DATABASE \n",
    "CREATE TABLE employee(\n",
    "       employee_id SERIAL PRIMARY KEY,\n",
    "\t   name VARCHAR(100) NOT NULL,\n",
    "\t   postion VARCHAR(50),\n",
    "\t   department VARCHAR(40),\n",
    "\t   hire_date DATE,\n",
    "\t   salary NUMERIC(10,20)\n",
    ");\n",
    "\n",
    "output:-CREATE TABLE\n",
    "\n",
    "Query returned successfully in 63 msec."
   ]
  },
  {
   "cell_type": "code",
   "execution_count": null,
   "id": "92273995-8ee9-4648-a150-9c54c449c550",
   "metadata": {},
   "outputs": [],
   "source": [
    "how to seen this table \n",
    "step1- go to company data base and right click and refresh it \n",
    "step to - click on schemas section  on company data base \n",
    "step3- click on table section and showing our data base name employee\n",
    "step4- click on columns section the showing how many columns are present on in your database ."
   ]
  },
  {
   "cell_type": "code",
   "execution_count": null,
   "id": "292c2e24-5cda-4c6f-b049-d259ec06173b",
   "metadata": {},
   "outputs": [],
   "source": [
    "simple way to see your table \n",
    "step1- Go to quary tool and write the command to see the table \n",
    "step2- command :-SELECT * FROM employee;  \n",
    "       select is and then click on run button \n"
   ]
  }
 ],
 "metadata": {
  "kernelspec": {
   "display_name": "Python 3 (ipykernel)",
   "language": "python",
   "name": "python3"
  },
  "language_info": {
   "codemirror_mode": {
    "name": "ipython",
    "version": 3
   },
   "file_extension": ".py",
   "mimetype": "text/x-python",
   "name": "python",
   "nbconvert_exporter": "python",
   "pygments_lexer": "ipython3",
   "version": "3.8.19"
  }
 },
 "nbformat": 4,
 "nbformat_minor": 5
}
