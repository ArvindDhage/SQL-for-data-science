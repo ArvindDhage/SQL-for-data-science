{
 "cells": [
  {
   "cell_type": "code",
   "execution_count": null,
   "id": "56bbfbe5-70e1-44ca-8c55-3cf70bb6a830",
   "metadata": {},
   "outputs": [],
   "source": [
    "step1- select database name company \n",
    "step2- right click on the database name company \n",
    "step3 - SELECT * FROM employee;  run this commant and see last time created table ."
   ]
  },
  {
   "cell_type": "code",
   "execution_count": null,
   "id": "e1032174-2916-4df7-b60d-5449171896da",
   "metadata": {},
   "outputs": [],
   "source": [
    "\n",
    "SELECT * FROM employee; # THIS COMMAND FOR SHOWIND THE DATA AND OUTPUT\n",
    "\n",
    "\n",
    "INSERT INTO employee(name, postion , department, hire_date, salary)    #This command for add the data in the rows\n",
    "            VALUES\n",
    "\t\t\t('Arvind Dhage','Data Analyst','Data Science ','2024-05-15',56000.00),  \n",
    "\t\t\t('Priya Desai', 'Software Engineer', 'IT', '2021-09-20', 75000.00),\n",
    "            ('Rajesh Kumar', 'HR Manager', 'Human Resources', '2019-03-10', 82000.00),\n",
    "            ('Sneha Patel', 'Marketing Specialist', 'Marketing', '2020-11-25', 58000.00),\n",
    "            ('Vikram Singh', 'Sales Executive', 'Sales', '2023-02-12', 62000.00); \n",
    "\n",
    "ALTER TABLE employee                #this command for update the data type\n",
    "ALTER COLUMN salary TYPE NUMERIC(12, 2);\n",
    "\n",
    "TRUNCATE TABLE employee;                        this command for delet all the rows in the database company \n",
    "TRUNCATE TABLE employee RESTART IDENTITY;"
   ]
  }
 ],
 "metadata": {
  "kernelspec": {
   "display_name": "Python 3 (ipykernel)",
   "language": "python",
   "name": "python3"
  },
  "language_info": {
   "codemirror_mode": {
    "name": "ipython",
    "version": 3
   },
   "file_extension": ".py",
   "mimetype": "text/x-python",
   "name": "python",
   "nbconvert_exporter": "python",
   "pygments_lexer": "ipython3",
   "version": "3.8.19"
  }
 },
 "nbformat": 4,
 "nbformat_minor": 5
}
