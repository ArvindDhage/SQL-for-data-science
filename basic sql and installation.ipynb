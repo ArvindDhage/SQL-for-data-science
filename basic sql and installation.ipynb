{
 "cells": [
  {
   "attachments": {},
   "cell_type": "markdown",
   "id": "89d89f5c-9f63-473c-808c-8f2d6f7280a2",
   "metadata": {},
   "source": [
    "What is SQL ?\n",
    "->SQL (Structured Query Language) is a programming language used to interact with databases. It is the standard language for querying, inserting, updating, and managing data stored in relational databases."
   ]
  },
  {
   "cell_type": "markdown",
   "id": "256e86f1-a891-4107-8770-7be10253f08c",
   "metadata": {},
   "source": [
    "Why we use SQL?\n",
    "-> 1. Simplifies working with large datasets.\n",
    "\n",
    "   2.Enables easy and efficient data management.\n",
    "\n",
    "   3.SQL is universal and works with most database systems (like PostgreSQL, MySQL, SQL Server).\n",
    "\n"
   ]
  },
  {
   "cell_type": "markdown",
   "id": "c9105d0f-a06f-4340-bdd4-311c1c0a6bbb",
   "metadata": {},
   "source": [
    "SQL used in following job roles of data field\n",
    "->Data Scientist\n",
    "  Data Analyst\n",
    "  Data Engineer\n",
    "  SQL Developer\n",
    "  Business Analyst\n",
    "  Quality Analyst\n"
   ]
  },
  {
   "cell_type": "markdown",
   "id": "3d9539be-162a-4097-92cf-f94d2c7c9b3d",
   "metadata": {},
   "source": [
    "DATA\n",
    "-Anything & Everything can be considered as data.\n",
    "-Any information or fact can be considered as data.\n",
    "-For any Financial Institute, details related to its employees, \n",
    " customers, their Services or even their address can be data.\n",
    "-Data can be in any form such as a text message or an image or a\n",
    " video or a document or single character itself.\n"
   ]
  },
  {
   "cell_type": "code",
   "execution_count": null,
   "id": "918dab8a-e795-4e84-a6b1-35c36db17b07",
   "metadata": {},
   "outputs": [],
   "source": [
    "What is Database ?\n",
    "A database is collection of Data that can be easily access (Digitally)\n",
    "\n",
    "A software to manage database is called DBMS\n",
    "(Database Management Software)\n"
   ]
  },
  {
   "attachments": {},
   "cell_type": "markdown",
   "id": "92f6a2b5-d7f6-4fab-b865-68e9c519c71b",
   "metadata": {},
   "source": [
    "Purpose of storing data in the database is:\n",
    "Easily Accessed\n",
    "Modified\n",
    "Protected\n",
    "Analyzed"
   ]
  },
  {
   "cell_type": "markdown",
   "id": "e7c63949-6c36-421a-a076-f8c8402a4a70",
   "metadata": {},
   "source": [
    "RDBMS -RELATIONAL DATA BASE MANAGMENT SYSTEM\n",
    "ORACLE\n",
    "MICROSOFT SQL SERVER\n",
    "POSTGRE SQL \n",
    "MYSQL"
   ]
  },
  {
   "cell_type": "code",
   "execution_count": null,
   "id": "8fb888cc-ee38-4d12-a95c-539867fc9f2c",
   "metadata": {},
   "outputs": [],
   "source": [
    "DOWNLOAD POSTGRE SQL\n",
    "https://www.postgresql.org/\n",
    "SELECT YOUR VERSION RELATED ON IN OUR SYSTEM.\n",
    "AND INSTALL \n",
    "AND GENARET THE PASSWORD \n",
    "AND REMEMBER THE PASSWORD BECAUSE AT THE END EVERY TIME NEED THIS PASSWORD "
   ]
  }
 ],
 "metadata": {
  "kernelspec": {
   "display_name": "Python 3 (ipykernel)",
   "language": "python",
   "name": "python3"
  },
  "language_info": {
   "codemirror_mode": {
    "name": "ipython",
    "version": 3
   },
   "file_extension": ".py",
   "mimetype": "text/x-python",
   "name": "python",
   "nbconvert_exporter": "python",
   "pygments_lexer": "ipython3",
   "version": "3.8.19"
  }
 },
 "nbformat": 4,
 "nbformat_minor": 5
}
